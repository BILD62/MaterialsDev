{
 "cells": [
  {
   "cell_type": "markdown",
   "id": "6f613f41",
   "metadata": {},
   "source": [
    "![](https://cdn1.iconfinder.com/data/icons/art-and-craft-3-flat/64/art-16-128.png)\n",
    "<div class=\"alert alert-success\"><b>Fibonnaci Sequence Task</b> Create a <b>for</b> loop that makes a list of Fibonacci numbers, up to 100. Remember that a Fibonnaci Sequence is where each value adds the previous two values: 1, 1, 2, 3, 5, etc.</div>\n",
    "\n",
    "**Hints**\n",
    "- Create an empty list by using empty brackets: `[]`\n",
    "- You can use the `break` function to decide when to stop your loop\n",
    "- Use the`append` function (see last lecture) to add values to your list.\n",
    "- You can use `while True` so that the function will run until it breaks.\n",
    "- You can assign two variables at the same time using the syntax `a,b = 0,1`\n",
    "\n",
    "Working with a team, pseudocode this on the whiteboard, _and then_ write it in the block below."
   ]
  },
  {
   "cell_type": "code",
   "execution_count": 4,
   "id": "b378bef7",
   "metadata": {},
   "outputs": [],
   "source": [
    "# Write your Fibonnaci function here\n",
    "\n",
    "def makeFibonacci():\n",
    "    '''\n",
    "    This is a function that will take in a max value and create a Fibonacci sequence, starting at 0.\n",
    "    '''"
   ]
  },
  {
   "cell_type": "code",
   "execution_count": null,
   "id": "5e579cf4",
   "metadata": {},
   "outputs": [],
   "source": []
  }
 ],
 "metadata": {
  "kernelspec": {
   "display_name": "Python 3",
   "language": "python",
   "name": "python3"
  },
  "language_info": {
   "codemirror_mode": {
    "name": "ipython",
    "version": 3
   },
   "file_extension": ".py",
   "mimetype": "text/x-python",
   "name": "python",
   "nbconvert_exporter": "python",
   "pygments_lexer": "ipython3",
   "version": "3.7.3"
  }
 },
 "nbformat": 4,
 "nbformat_minor": 5
}
