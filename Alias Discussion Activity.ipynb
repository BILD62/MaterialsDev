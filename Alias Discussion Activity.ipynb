{
 "cells": [
  {
   "cell_type": "markdown",
   "id": "1e72e27a",
   "metadata": {},
   "source": [
    "## Aliases\n",
    "Variables are names assigned to a value. Values can have more than one name (<b>aliases</b>).\n",
    "\n",
    "<div class=\"alert alert-success\"><b>Task: </b>Assign a value to variable <b>original</b>. Then, make an alias of <b>original</b> by storing it in the variable <b>alias</b>. What happens if you change the value of <b>original</b>, without re-assigning it to the alias?</div>"
   ]
  },
  {
   "cell_type": "code",
   "execution_count": null,
   "id": "6c94caf2",
   "metadata": {},
   "outputs": [],
   "source": [
    "# Test your aliases here\n"
   ]
  },
  {
   "cell_type": "markdown",
   "id": "1905d8b2",
   "metadata": {
    "slideshow": {
     "slide_type": "slide"
    }
   },
   "source": [
    "What happens if we make an alias of a **mutable** variable, like a list?\n",
    "\n",
    "<div class=\"alert alert-success\"><b>Task: </b>Using a similar sequence as in the previous task, test whether modifying aliases of lists or tuples leads to the same result.</div>"
   ]
  },
  {
   "cell_type": "code",
   "execution_count": null,
   "id": "19264a29",
   "metadata": {
    "scrolled": true,
    "slideshow": {
     "slide_type": "fragment"
    }
   },
   "outputs": [],
   "source": []
  },
  {
   "cell_type": "markdown",
   "id": "9b09afba",
   "metadata": {},
   "source": [
    "### **Takeaway**: For *mutable* type variables, when you change one, both change.\n",
    "\n",
    "**Why allow aliasing?**  Aliasing can get confusing and be difficult to track, so why does Python allow it?\n",
    "\n",
    "Well, it's more efficient to point to an alias than to make an entirely new copy of a a very large variable storing a lot of data. \n",
    "\n",
    "Python allows for the confusion, in favor of being more efficient."
   ]
  },
  {
   "cell_type": "markdown",
   "id": "6846b034",
   "metadata": {},
   "source": [
    "### Identity Operators\n",
    "\n",
    " Identity operators are used to check if two values (or variables) are located on the same part of the memory.\n",
    " \n",
    "- `is` : True if both refer to the same object\n",
    "- `is not` : True if they do not refer to the same object\n",
    "\n",
    "**Hint**: You can use the `id` function to check the unique identifier of a Python object. This can tell us whether two objects are aliases\n",
    "\n",
    "<div class=\"alert alert-success\"><b>Task: </b>Check the identify of your values above -- are they identical?</div>"
   ]
  },
  {
   "cell_type": "code",
   "execution_count": null,
   "id": "5831be2e",
   "metadata": {},
   "outputs": [],
   "source": [
    "id(a)"
   ]
  }
 ],
 "metadata": {
  "kernelspec": {
   "display_name": "Python 3",
   "language": "python",
   "name": "python3"
  },
  "language_info": {
   "codemirror_mode": {
    "name": "ipython",
    "version": 3
   },
   "file_extension": ".py",
   "mimetype": "text/x-python",
   "name": "python",
   "nbconvert_exporter": "python",
   "pygments_lexer": "ipython3",
   "version": "3.7.3"
  }
 },
 "nbformat": 4,
 "nbformat_minor": 5
}
