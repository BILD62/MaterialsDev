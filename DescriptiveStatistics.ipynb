{
 "cells": [
  {
   "cell_type": "markdown",
   "id": "df24ed91",
   "metadata": {},
   "source": [
    "# Descriptive Statistics in Python\n",
    "\n",
    "## Measures of central tendency"
   ]
  },
  {
   "cell_type": "markdown",
   "id": "2170b5a5",
   "metadata": {},
   "source": [
    "> **Task**: Heart rate during physical exercise (in Hz) was determined for a set of patients who were being treated for chronic heart failure. Each of their data points are assigned to `heart_data` below. **Determine the mean and median of the data. How do these differ?**"
   ]
  },
  {
   "cell_type": "code",
   "execution_count": 20,
   "id": "0cdcc264",
   "metadata": {},
   "outputs": [
    {
     "name": "stdout",
     "output_type": "stream",
     "text": [
      "102.56521739130434\n",
      "100.0\n"
     ]
    }
   ],
   "source": [
    "import numpy as np\n",
    "\n",
    "heart_data = [80,120,72,130,132,96,132,71,68,120,83,105,89,88,100,122,114,76,143,139,69,130,80]\n",
    "\n",
    "print(np.mean(heart_data))\n",
    "print(np.median(heart_data))"
   ]
  },
  {
   "cell_type": "markdown",
   "id": "6989432d",
   "metadata": {},
   "source": [
    "## Measures of dispersion\n",
    "\n",
    "> **Task**: Compute the range and standard deviation of `heart_data`."
   ]
  },
  {
   "cell_type": "code",
   "execution_count": null,
   "id": "0b10ba49",
   "metadata": {},
   "outputs": [],
   "source": []
  },
  {
   "cell_type": "markdown",
   "id": "9319e238",
   "metadata": {},
   "source": [
    "## Plotting a distribution\n",
    "\n",
    "We can use [`plt.hist()`](https://matplotlib.org/stable/api/_as_gen/matplotlib.pyplot.hist.html) to plot a histogram. Usefully, you can also define a number of bins.\n",
    "\n",
    "> **Task** Plot a distribution with different numbers of bins -- does this change how you interpret the distribution of the data? Is it unimodal or bimodal?"
   ]
  },
  {
   "cell_type": "code",
   "execution_count": 23,
   "id": "b8a7e8e7",
   "metadata": {},
   "outputs": [
    {
     "data": {
      "image/png": "[encoded data removed]",
      "text/plain": [
       "<Figure size 432x288 with 1 Axes>"
      ]
     },
     "metadata": {
      "needs_background": "light"
     },
     "output_type": "display_data"
    }
   ],
   "source": [
    "import matplotlib.pyplot as plt\n",
    "\n",
    "plt.hist(heart_data,bins=4)\n",
    "plt.show()"
   ]
  },
  {
   "cell_type": "code",
   "execution_count": null,
   "id": "e790da75",
   "metadata": {},
   "outputs": [],
   "source": []
  }
 ],
 "metadata": {
  "kernelspec": {
   "display_name": "Python 3",
   "language": "python",
   "name": "python3"
  },
  "language_info": {
   "codemirror_mode": {
    "name": "ipython",
    "version": 3
   },
   "file_extension": ".py",
   "mimetype": "text/x-python",
   "name": "python",
   "nbconvert_exporter": "python",
   "pygments_lexer": "ipython3",
   "version": "3.7.3"
  }
 },
 "nbformat": 4,
 "nbformat_minor": 5
}
